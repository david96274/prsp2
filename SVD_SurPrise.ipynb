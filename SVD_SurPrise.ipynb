{
 "cells": [
  {
   "cell_type": "code",
   "execution_count": 1,
   "id": "ffc2019f-0cfd-4582-a326-c4e4d82c9349",
   "metadata": {},
   "outputs": [],
   "source": [
    "import pandas as pd\n",
    "from surprise import SVD, Dataset, Reader\n",
    "from surprise.model_selection import cross_validate\n",
    "import pickle"
   ]
  },
  {
   "cell_type": "code",
   "execution_count": 2,
   "id": "515c1bd4-964b-4ccb-b75e-4df0686b3ed4",
   "metadata": {},
   "outputs": [],
   "source": [
    "df= pd.read_csv('Products_ThoiTrangNam_rating_raw.csv', sep='\\t')"
   ]
  },
  {
   "cell_type": "code",
   "execution_count": 3,
   "id": "aca19ef0-f39f-4442-abda-1401531df425",
   "metadata": {},
   "outputs": [
    {
     "data": {
      "text/plain": [
       "1024482"
      ]
     },
     "execution_count": 3,
     "metadata": {},
     "output_type": "execute_result"
    }
   ],
   "source": [
    "len(df['product_id'])"
   ]
  },
  {
   "cell_type": "code",
   "execution_count": 4,
   "id": "b3897524-f717-442d-b890-06a33812031d",
   "metadata": {},
   "outputs": [],
   "source": [
    "df = df.drop_duplicates()"
   ]
  },
  {
   "cell_type": "code",
   "execution_count": 5,
   "id": "5fffa12f-4ce6-4ae9-9815-8baf8cb26fc2",
   "metadata": {},
   "outputs": [
    {
     "data": {
      "text/plain": [
       "999815"
      ]
     },
     "execution_count": 5,
     "metadata": {},
     "output_type": "execute_result"
    }
   ],
   "source": [
    "len(df['product_id'])\n"
   ]
  },
  {
   "cell_type": "code",
   "execution_count": 6,
   "id": "4b7da131-9d77-4f2e-9d4a-6225fbbc13c6",
   "metadata": {},
   "outputs": [
    {
     "name": "stdout",
     "output_type": "stream",
     "text": [
      "Evaluating RMSE, MAE of algorithm SVD on 5 split(s).\n",
      "\n",
      "                  Fold 1  Fold 2  Fold 3  Fold 4  Fold 5  Mean    Std     \n",
      "RMSE (testset)    0.8856  0.8918  0.8853  0.8860  0.8900  0.8877  0.0026  \n",
      "MAE (testset)     0.5668  0.5708  0.5669  0.5672  0.5681  0.5680  0.0015  \n",
      "Fit time          35.30   37.14   37.46   36.97   36.00   36.58   0.80    \n",
      "Test time         4.91    4.21    3.95    4.87    4.85    4.56    0.40    \n"
     ]
    }
   ],
   "source": [
    "reader = Reader(rating_scale=(1, 5))\n",
    "data = Dataset.load_from_df(df[['user_id', 'product_id', 'rating']], reader)\n",
    "\n",
    "# Đánh giá mô hình bằng cross-validation\n",
    "algorithm = SVD()\n",
    "results = cross_validate(algorithm, data, measures=['RMSE', 'MAE'], cv=5, verbose=True)"
   ]
  },
  {
   "cell_type": "code",
   "execution_count": 7,
   "id": "99ef853e-2347-465d-bdee-4e39f9ec8b17",
   "metadata": {},
   "outputs": [
    {
     "data": {
      "text/plain": [
       "<surprise.prediction_algorithms.matrix_factorization.SVD at 0x273f5530100>"
      ]
     },
     "execution_count": 7,
     "metadata": {},
     "output_type": "execute_result"
    }
   ],
   "source": [
    "trainset = data.build_full_trainset()\n",
    "algorithm.fit(trainset)"
   ]
  },
  {
   "cell_type": "code",
   "execution_count": 8,
   "id": "c88a85f3-6575-472c-9610-c27c771fb203",
   "metadata": {},
   "outputs": [],
   "source": [
    "# Lưu model đã huấn luyện\n",
    "with open('svd_model.pkl', 'wb') as f:\n",
    "    pickle.dump(algorithm, f)\n",
    "\n",
    "# Lưu sample_df (nếu bạn cần nó sau này)\n",
    "sample_df = df[['user_id', 'product_id', 'rating']]\n",
    "with open('sample_df.pkl', 'wb') as f:\n",
    "    pickle.dump(sample_df, f)\n",
    "\n",
    "# Lưu bảng product name\n",
    "products_df = pd.read_csv(\"Products_ThoiTrangNam_raw.csv\")  # Chứa product_id, product_name,...\n",
    "products_name_df = products_df[['product_id', 'product_name']]\n",
    "with open(\"products_name_df.pkl\", \"wb\") as f:\n",
    "    pickle.dump(products_name_df, f)"
   ]
  },
  {
   "cell_type": "code",
   "execution_count": null,
   "id": "3663d54c-40a3-4b98-a75a-eb9bab533da5",
   "metadata": {},
   "outputs": [],
   "source": []
  },
  {
   "cell_type": "code",
   "execution_count": null,
   "id": "137104ff-868c-4169-b0d1-1c7b4f3c937e",
   "metadata": {},
   "outputs": [],
   "source": []
  }
 ],
 "metadata": {
  "kernelspec": {
   "display_name": "Python 3 (ipykernel)",
   "language": "python",
   "name": "python3"
  },
  "language_info": {
   "codemirror_mode": {
    "name": "ipython",
    "version": 3
   },
   "file_extension": ".py",
   "mimetype": "text/x-python",
   "name": "python",
   "nbconvert_exporter": "python",
   "pygments_lexer": "ipython3",
   "version": "3.10.0"
  }
 },
 "nbformat": 4,
 "nbformat_minor": 5
}
