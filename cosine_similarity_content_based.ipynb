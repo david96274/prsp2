{
 "cells": [
  {
   "cell_type": "code",
   "execution_count": 1,
   "id": "b2de9d30-a51a-4f41-9849-2d55e187c38d",
   "metadata": {},
   "outputs": [],
   "source": [
    "import numpy as np\n",
    "import pandas as pd\n",
    "import re\n",
    "import pickle\n",
    "from sklearn.feature_extraction.text import TfidfVectorizer\n",
    "from sklearn.metrics.pairwise import cosine_similarity\n",
    "from underthesea import word_tokenize"
   ]
  },
  {
   "cell_type": "code",
   "execution_count": 2,
   "id": "72d76afa-e957-4dbc-a0e5-96e026d6a0a9",
   "metadata": {},
   "outputs": [],
   "source": [
    "# Load stopwords\n",
    "STOP_WORD_FILE = 'vietnamese-stopwords.txt'\n",
    "with open(STOP_WORD_FILE, 'r', encoding='utf-8') as file:\n",
    "    stop_words = file.read().split('\\n')"
   ]
  },
  {
   "cell_type": "code",
   "execution_count": 3,
   "id": "1743ec01-690d-4780-a8da-b499b5ac7083",
   "metadata": {},
   "outputs": [],
   "source": [
    "# Đọc dữ liệu\n",
    "df = pd.read_csv(\"Products_ThoiTrangNam_raw.csv\")"
   ]
  },
  {
   "cell_type": "code",
   "execution_count": 4,
   "id": "a9399338-b5fa-45be-b311-906b3c7bdc27",
   "metadata": {},
   "outputs": [
    {
     "name": "stdout",
     "output_type": "stream",
     "text": [
      "Số lượng sản phẩm có giá 0 theo từng danh mục con:\n",
      "Kính Mắt Nam               503\n",
      "Cà vạt & Nơ cổ             289\n",
      "Khác                       103\n",
      "Trang Phục Truyền Thống     30\n",
      "Vớ/Tất                      14\n",
      "Đồ Hóa Trang                12\n",
      "Đồ Bộ                        5\n",
      "Áo Khoác                     4\n",
      "Quần Dài/Quần Âu             2\n",
      "Áo                           1\n",
      "Name: sub_category, dtype: int64\n"
     ]
    }
   ],
   "source": [
    "# Lọc các sản phẩm có giá bằng 0\n",
    "zero_price_products = df[df['price'] == 0]\n",
    "\n",
    "# Đếm số lượng sản phẩm theo từng 'sub_category'\n",
    "sub_category_counts = zero_price_products['sub_category'].value_counts()\n",
    "\n",
    "print(\"Số lượng sản phẩm có giá 0 theo từng danh mục con:\")\n",
    "print(sub_category_counts)"
   ]
  },
  {
   "cell_type": "code",
   "execution_count": 5,
   "id": "8094453e-359a-43c1-a2e2-d7218f7928aa",
   "metadata": {},
   "outputs": [
    {
     "name": "stdout",
     "output_type": "stream",
     "text": [
      "Số lượng sản phẩm còn giá 0: 0\n"
     ]
    }
   ],
   "source": [
    "# Tính giá trung bình của từng sub_category và bỏ qua giá trị 0\n",
    "mean_prices = df[df['price'] > 0].groupby('sub_category')['price'].mean()\n",
    "\n",
    "# Thay thế giá 0 bằng giá trung bình của sub_category tương ứng\n",
    "df.loc[df['price'] == 0, 'price'] = df['sub_category'].map(mean_prices)\n",
    "\n",
    "# Kiểm tra lại xem còn sản phẩm nào có giá bằng 0 không\n",
    "print(\"Số lượng sản phẩm còn giá 0:\", (df['price'] == 0).sum())"
   ]
  },
  {
   "cell_type": "code",
   "execution_count": 6,
   "id": "ad2049a0-81ec-4a0d-8803-366c6d76d26e",
   "metadata": {},
   "outputs": [],
   "source": [
    " #Bộ ký tự tiếng Việt\n",
    "vietnamese_chars = (\n",
    "    \"a-zA-Z0-9_\"\n",
    "    \"àáạảãâầấậẩẫăằắặẳẵ\"\n",
    "    \"èéẹẻẽêềếệểễ\"\n",
    "    \"ìíịỉĩ\"\n",
    "    \"òóọỏõôồốộổỗơờớợởỡ\"\n",
    "    \"ùúụủũưừứựửữ\"\n",
    "    \"ỳýỵỷỹ\"\n",
    "    \"đ\"\n",
    "    \"ÀÁẠẢÃÂẦẤẬẨẪĂẰẮẶẲẴ\"\n",
    "    \"ÈÉẸẺẼÊỀẾỆỂỄ\"\n",
    "    \"ÌÍỊỈĨ\"\n",
    "    \"ÒÓỌỎÕÔỒỐỘỔỖƠỜỚỢỞỠ\"\n",
    "    \"ÙÚỤỦŨƯỪỨỰỬỮ\"\n",
    "    \"ỲÝỴỶỸ\"\n",
    "    \"Đ\"\n",
    ")"
   ]
  },
  {
   "cell_type": "code",
   "execution_count": 7,
   "id": "84992539-5de1-4599-9da3-89beadfbe76c",
   "metadata": {},
   "outputs": [],
   "source": [
    "pattern = f'^[{vietnamese_chars}]+$'"
   ]
  },
  {
   "cell_type": "code",
   "execution_count": 8,
   "id": "77150bbc-a389-4eb0-9702-f993d64622cc",
   "metadata": {},
   "outputs": [],
   "source": [
    "def is_valid_vietnamese(word):\n",
    "    return re.match(pattern, word) is not None"
   ]
  },
  {
   "cell_type": "code",
   "execution_count": 9,
   "id": "6758ce44-0df6-46ee-930c-94d601521d61",
   "metadata": {},
   "outputs": [],
   "source": [
    "def filter_vietnamese_words(text):\n",
    "    if not isinstance(text, str):\n",
    "        return ''\n",
    "    words = text.split()\n",
    "    clean_words = [w for w in words if is_valid_vietnamese(w)]\n",
    "    return ' '.join(clean_words)"
   ]
  },
  {
   "cell_type": "code",
   "execution_count": 10,
   "id": "0036a044-f658-4051-b056-ff7149e026ef",
   "metadata": {},
   "outputs": [],
   "source": [
    "# Làm sạch dữ liệu\n",
    "df['description_clean'] = df['description'].apply(filter_vietnamese_words)\n",
    "df['Content'] = df['product_name'] + ' ' + df['description_clean'].apply(lambda x: ' '.join(x.split()[:100]))\n",
    "df['Content_wt'] = df['Content'].apply(lambda x: word_tokenize(x, format=\"text\"))"
   ]
  },
  {
   "cell_type": "code",
   "execution_count": 11,
   "id": "08e6765a-cf8e-412a-9db2-ad9c32f4afe8",
   "metadata": {},
   "outputs": [],
   "source": [
    "# TF-IDF\n",
    "vectorizer = TfidfVectorizer(analyzer='word', stop_words=stop_words)\n",
    "tfidf_matrix = vectorizer.fit_transform(df['Content_wt'])\n"
   ]
  },
  {
   "cell_type": "code",
   "execution_count": 12,
   "id": "a13316e6-e3c9-475f-9bb6-dfd3ea84a99e",
   "metadata": {},
   "outputs": [],
   "source": [
    "# Cosine similarity\n",
    "cosine_sim = cosine_similarity(tfidf_matrix, tfidf_matrix)"
   ]
  },
  {
   "cell_type": "code",
   "execution_count": 13,
   "id": "c09e6fef-dc87-42a4-bb44-a2c083b2ce54",
   "metadata": {},
   "outputs": [],
   "source": [
    "#  Tạo từ điển gợi ý TOP 9\n",
    "top_k = 9\n",
    "recommendations_dict = {}"
   ]
  },
  {
   "cell_type": "code",
   "execution_count": 14,
   "id": "1b03b8a9-b1b1-4e24-abb0-531c79cdc28c",
   "metadata": {},
   "outputs": [],
   "source": [
    "for idx in range(len(df)):\n",
    "    sim_scores = list(enumerate(cosine_sim[idx]))\n",
    "    sim_scores = sorted(sim_scores, key=lambda x: x[1], reverse=True)\n",
    "    sim_scores = sim_scores[1:top_k+1]\n",
    "    product_id = df.loc[idx, 'product_id']\n",
    "    similar_ids = [df.loc[i[0], 'product_id'] for i in sim_scores]\n",
    "    recommendations_dict[product_id] = similar_ids"
   ]
  },
  {
   "cell_type": "code",
   "execution_count": 15,
   "id": "6a80e9a7-e2bb-4ec5-8c0e-5886a4cd2e42",
   "metadata": {},
   "outputs": [],
   "source": [
    "#  Lưu từ điển gợi ý (chỉ vài MB)\n",
    "with open('recommendations_dict.pkl', 'wb') as f:\n",
    "    pickle.dump(recommendations_dict, f)"
   ]
  },
  {
   "cell_type": "code",
   "execution_count": 16,
   "id": "d2999b57-6ced-4df8-a58d-d64a0bd95cb3",
   "metadata": {},
   "outputs": [],
   "source": [
    "#  Lưu lại dataframe nếu cần\n",
    "with open('products_df.pkl', 'wb') as f:\n",
    "    pickle.dump(df, f)"
   ]
  },
  {
   "cell_type": "code",
   "execution_count": null,
   "id": "dc0515db-0126-4d02-9c23-c4cc99b693a9",
   "metadata": {},
   "outputs": [],
   "source": []
  },
  {
   "cell_type": "code",
   "execution_count": null,
   "id": "be57f6a1-c23f-4f54-9320-d353bcc99719",
   "metadata": {},
   "outputs": [],
   "source": []
  }
 ],
 "metadata": {
  "kernelspec": {
   "display_name": "Python 3 (ipykernel)",
   "language": "python",
   "name": "python3"
  },
  "language_info": {
   "codemirror_mode": {
    "name": "ipython",
    "version": 3
   },
   "file_extension": ".py",
   "mimetype": "text/x-python",
   "name": "python",
   "nbconvert_exporter": "python",
   "pygments_lexer": "ipython3",
   "version": "3.10.0"
  }
 },
 "nbformat": 4,
 "nbformat_minor": 5
}
